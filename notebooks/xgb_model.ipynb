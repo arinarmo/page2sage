{
 "cells": [
  {
   "cell_type": "code",
   "execution_count": 9,
   "id": "b743df06",
   "metadata": {},
   "outputs": [],
   "source": [
    "import sagemaker\n",
    "from datetime import datetime\n",
    "from sagemaker.session import TrainingInput\n",
    "from sagemaker.serializers import CSVSerializer"
   ]
  },
  {
   "cell_type": "markdown",
   "id": "71debbc3",
   "metadata": {},
   "source": [
    "# Training "
   ]
  },
  {
   "cell_type": "code",
   "execution_count": 2,
   "id": "19b51dd5",
   "metadata": {},
   "outputs": [],
   "source": [
    "BUCKET = \"page2sage\"\n",
    "\n",
    "region = sagemaker.Session().boto_region_name # AWS Region\n",
    "role = sagemaker.get_execution_role() # Rol de AMI para ejecución\n"
   ]
  },
  {
   "cell_type": "code",
   "execution_count": 3,
   "id": "545b2a1d",
   "metadata": {},
   "outputs": [],
   "source": [
    "container = sagemaker.image_uris.retrieve(\"xgboost\", region, \"latest\") # https://github.com/aws/sagemaker-python-sdk/tree/master/src/sagemaker/image_uri_config\n",
    "xgb_model = sagemaker.estimator.Estimator(\n",
    "    image_uri=container, \n",
    "    role=role,\n",
    "    instance_count=1, # Para Paralelizacion\n",
    "    instance_type=\"ml.m5.large\", # https://github.com/awsdocs/amazon-sagemaker-developer-guide/blob/master/doc_source/notebooks-available-instance-types.md\n",
    "    volume_size=5, # en GB\n",
    "    output_path=f\"s3://{BUCKET}/models/xgboost/\", # Donde guardar el modelo entrenado\n",
    "    sagemaker_session=sagemaker.Session()\n",
    ")"
   ]
  },
  {
   "cell_type": "code",
   "execution_count": 4,
   "id": "eb0a0ddd",
   "metadata": {},
   "outputs": [],
   "source": [
    "xgb_model.set_hyperparameters(\n",
    "    max_depth=5,\n",
    "    num_round=100\n",
    ")"
   ]
  },
  {
   "cell_type": "code",
   "execution_count": 5,
   "id": "0b2148d8",
   "metadata": {},
   "outputs": [],
   "source": [
    "train_input = TrainingInput(\n",
    "    f\"s3://{BUCKET}/train/train.csv\", # S3 Data location\n",
    "    content_type=\"csv\", # Data type\n",
    "    s3_data_type=\"S3Prefix\" # [\"S3Prefix\", \"ManifestFile\", \"AugmentedManifestFile\"]\n",
    ")\n",
    "\n",
    "validation_input = TrainingInput(\n",
    "    f\"s3://{BUCKET}/validation/validation.csv\",\n",
    "    content_type=\"csv\",\n",
    "    s3_data_type=\"S3Prefix\"\n",
    ")"
   ]
  },
  {
   "cell_type": "code",
   "execution_count": null,
   "id": "27e0b5cf",
   "metadata": {},
   "outputs": [
    {
     "name": "stdout",
     "output_type": "stream",
     "text": [
      "2021-12-02 08:57:52 Starting - Starting the training job...\n",
      "2021-12-02 08:58:15 Starting - Launching requested ML instancesProfilerReport-1638435472: InProgress\n",
      "...\n",
      "2021-12-02 08:58:41 Starting - Preparing the instances for training......"
     ]
    }
   ],
   "source": [
    "xgb_model.fit({\"train\":train_input, \"validation\":validation_input}, wait=True)"
   ]
  },
  {
   "cell_type": "markdown",
   "id": "829cd71b",
   "metadata": {},
   "source": [
    "# Online Prediction "
   ]
  },
  {
   "cell_type": "code",
   "execution_count": 12,
   "id": "35317223",
   "metadata": {},
   "outputs": [
    {
     "name": "stdout",
     "output_type": "stream",
     "text": [
      "-------!"
     ]
    }
   ],
   "source": [
    "xgb_predictor = xgb_model.deploy(initial_instance_count=1, instance_type=\"ml.t2.medium\", serializer=CSVSerializer())"
   ]
  },
  {
   "cell_type": "code",
   "execution_count": 30,
   "id": "0b5f27b8",
   "metadata": {},
   "outputs": [
    {
     "name": "stdout",
     "output_type": "stream",
     "text": [
      "OverallQual              8.000000\n",
      "OverallCond              5.000000\n",
      "YearBuilt             2004.000000\n",
      "YearRemodAdd          2005.000000\n",
      "FullBath                 2.000000\n",
      "BedroomAbvGr             3.000000\n",
      "TotRmsAbvGrd             7.000000\n",
      "Fireplaces               1.000000\n",
      "LogLotFrontage           2.029384\n",
      "LogLotArea               4.055455\n",
      "LogGrLivArea             3.263873\n",
      "MSZoning_C (all)         0.000000\n",
      "MSZoning_FV              0.000000\n",
      "MSZoning_RH              0.000000\n",
      "MSZoning_RL              1.000000\n",
      "MSZoning_RM              0.000000\n",
      "RoofStyle_Flat           0.000000\n",
      "RoofStyle_Gable          1.000000\n",
      "RoofStyle_Gambrel        0.000000\n",
      "RoofStyle_Hip            0.000000\n",
      "RoofStyle_Mansard        0.000000\n",
      "RoofStyle_Shed           0.000000\n",
      "GarageType_2Types        0.000000\n",
      "GarageType_Attchd        1.000000\n",
      "GarageType_Basment       0.000000\n",
      "GarageType_BuiltIn       0.000000\n",
      "GarageType_CarPort       0.000000\n",
      "GarageType_Detchd        0.000000\n",
      "GarageType_None          0.000000\n",
      "HouseStyle_1.5Fin        0.000000\n",
      "HouseStyle_1.5Unf        0.000000\n",
      "HouseStyle_1Story        1.000000\n",
      "HouseStyle_2.5Fin        0.000000\n",
      "HouseStyle_2.5Unf        0.000000\n",
      "HouseStyle_2Story        0.000000\n",
      "HouseStyle_SFoyer        0.000000\n",
      "HouseStyle_SLvl          0.000000\n",
      "Name: 941, dtype: float64\n",
      "The value for this property is: 274606.42201813625\n"
     ]
    }
   ],
   "source": [
    "import pandas as pd\n",
    "eval_data = pd.read_csv(\"../data/eval.csv\", header=None)\n",
    "with open(\"../data/columns.txt\") as f:\n",
    "    eval_data.columns = f.read().split(\"\\n\")\n",
    "sample = eval_data.sample(1).iloc[0]\n",
    "print(sample)\n",
    "print(f\"The value for this property is: {10**float(xgb_predictor.predict(sample))}\")"
   ]
  },
  {
   "cell_type": "code",
   "execution_count": 31,
   "id": "f7b72ba9",
   "metadata": {},
   "outputs": [
    {
     "name": "stdout",
     "output_type": "stream",
     "text": [
      "OverallQual              8.000000\n",
      "OverallCond              5.000000\n",
      "YearBuilt             2004.000000\n",
      "YearRemodAdd          2020.000000\n",
      "FullBath                 2.000000\n",
      "BedroomAbvGr             3.000000\n",
      "TotRmsAbvGrd             7.000000\n",
      "Fireplaces               1.000000\n",
      "LogLotFrontage           2.029384\n",
      "LogLotArea               4.055455\n",
      "LogGrLivArea             3.263873\n",
      "MSZoning_C (all)         0.000000\n",
      "MSZoning_FV              0.000000\n",
      "MSZoning_RH              0.000000\n",
      "MSZoning_RL              1.000000\n",
      "MSZoning_RM              0.000000\n",
      "RoofStyle_Flat           0.000000\n",
      "RoofStyle_Gable          1.000000\n",
      "RoofStyle_Gambrel        0.000000\n",
      "RoofStyle_Hip            0.000000\n",
      "RoofStyle_Mansard        0.000000\n",
      "RoofStyle_Shed           0.000000\n",
      "GarageType_2Types        0.000000\n",
      "GarageType_Attchd        1.000000\n",
      "GarageType_Basment       0.000000\n",
      "GarageType_BuiltIn       0.000000\n",
      "GarageType_CarPort       0.000000\n",
      "GarageType_Detchd        0.000000\n",
      "GarageType_None          0.000000\n",
      "HouseStyle_1.5Fin        0.000000\n",
      "HouseStyle_1.5Unf        0.000000\n",
      "HouseStyle_1Story        1.000000\n",
      "HouseStyle_2.5Fin        0.000000\n",
      "HouseStyle_2.5Unf        0.000000\n",
      "HouseStyle_2Story        0.000000\n",
      "HouseStyle_SFoyer        0.000000\n",
      "HouseStyle_SLvl          0.000000\n",
      "Name: 941, dtype: float64\n",
      "The value for this property is: 296577.6399058261\n"
     ]
    }
   ],
   "source": [
    "sample[\"YearRemodAdd\"] = 2020\n",
    "print(sample)\n",
    "print(f\"The value for this property is: {10**float(xgb_predictor.predict(sample))}\")"
   ]
  },
  {
   "cell_type": "code",
   "execution_count": 27,
   "id": "2b04d94b",
   "metadata": {},
   "outputs": [
    {
     "data": {
      "text/plain": [
       "'xgboost-2021-12-02-21-53-09-236'"
      ]
     },
     "execution_count": 27,
     "metadata": {},
     "output_type": "execute_result"
    }
   ],
   "source": [
    "xgb_predictor.endpoint_name"
   ]
  },
  {
   "cell_type": "code",
   "execution_count": 66,
   "id": "4ba263cc",
   "metadata": {},
   "outputs": [
    {
     "data": {
      "text/plain": [
       "296577.6399058261"
      ]
     },
     "execution_count": 66,
     "metadata": {},
     "output_type": "execute_result"
    }
   ],
   "source": [
    "from sagemaker.predictor import Predictor\n",
    "ser = CSVSerializer()\n",
    "predictor = Predictor(xgb_predictor.endpoint_name, sagemaker_session=sagemaker.Session(), serializer=CSVSerializer())\n",
    "10**float(predictor.predict(ser.serialize(sample)))"
   ]
  },
  {
   "cell_type": "code",
   "execution_count": 69,
   "id": "d429a37e",
   "metadata": {},
   "outputs": [
    {
     "ename": "ClientError",
     "evalue": "An error occurred (ValidationException) when calling the DescribeEndpointConfig operation: Could not find endpoint configuration \"arn:aws:sagemaker:us-east-2:317987917227:endpoint-config/xgboost-2021-12-02-21-53-09-236\".",
     "output_type": "error",
     "traceback": [
      "\u001b[0;31m---------------------------------------------------------------------------\u001b[0m",
      "\u001b[0;31mClientError\u001b[0m                               Traceback (most recent call last)",
      "\u001b[0;32m<ipython-input-69-6c764c58a8c6>\u001b[0m in \u001b[0;36m<module>\u001b[0;34m\u001b[0m\n\u001b[1;32m      1\u001b[0m \u001b[0;31m#xgb_predictor.delete_endpoint()\u001b[0m\u001b[0;34m\u001b[0m\u001b[0;34m\u001b[0m\u001b[0;34m\u001b[0m\u001b[0m\n\u001b[0;32m----> 2\u001b[0;31m \u001b[0mxgb_predictor\u001b[0m\u001b[0;34m.\u001b[0m\u001b[0mdelete_model\u001b[0m\u001b[0;34m(\u001b[0m\u001b[0;34m)\u001b[0m\u001b[0;34m\u001b[0m\u001b[0;34m\u001b[0m\u001b[0m\n\u001b[0m",
      "\u001b[0;32m~/anaconda3/envs/python3/lib/python3.6/site-packages/sagemaker/predictor.py\u001b[0m in \u001b[0;36mdelete_model\u001b[0;34m(self)\u001b[0m\n\u001b[1;32m    337\u001b[0m         \u001b[0mrequest_failed\u001b[0m \u001b[0;34m=\u001b[0m \u001b[0;32mFalse\u001b[0m\u001b[0;34m\u001b[0m\u001b[0;34m\u001b[0m\u001b[0m\n\u001b[1;32m    338\u001b[0m         \u001b[0mfailed_models\u001b[0m \u001b[0;34m=\u001b[0m \u001b[0;34m[\u001b[0m\u001b[0;34m]\u001b[0m\u001b[0;34m\u001b[0m\u001b[0;34m\u001b[0m\u001b[0m\n\u001b[0;32m--> 339\u001b[0;31m         \u001b[0mcurrent_model_names\u001b[0m \u001b[0;34m=\u001b[0m \u001b[0mself\u001b[0m\u001b[0;34m.\u001b[0m\u001b[0m_get_model_names\u001b[0m\u001b[0;34m(\u001b[0m\u001b[0;34m)\u001b[0m\u001b[0;34m\u001b[0m\u001b[0;34m\u001b[0m\u001b[0m\n\u001b[0m\u001b[1;32m    340\u001b[0m         \u001b[0;32mfor\u001b[0m \u001b[0mmodel_name\u001b[0m \u001b[0;32min\u001b[0m \u001b[0mcurrent_model_names\u001b[0m\u001b[0;34m:\u001b[0m\u001b[0;34m\u001b[0m\u001b[0;34m\u001b[0m\u001b[0m\n\u001b[1;32m    341\u001b[0m             \u001b[0;32mtry\u001b[0m\u001b[0;34m:\u001b[0m\u001b[0;34m\u001b[0m\u001b[0;34m\u001b[0m\u001b[0m\n",
      "\u001b[0;32m~/anaconda3/envs/python3/lib/python3.6/site-packages/sagemaker/predictor.py\u001b[0m in \u001b[0;36m_get_model_names\u001b[0;34m(self)\u001b[0m\n\u001b[1;32m    529\u001b[0m         \u001b[0mcurrent_endpoint_config_name\u001b[0m \u001b[0;34m=\u001b[0m \u001b[0mself\u001b[0m\u001b[0;34m.\u001b[0m\u001b[0m_get_endpoint_config_name\u001b[0m\u001b[0;34m(\u001b[0m\u001b[0;34m)\u001b[0m\u001b[0;34m\u001b[0m\u001b[0;34m\u001b[0m\u001b[0m\n\u001b[1;32m    530\u001b[0m         endpoint_config = self.sagemaker_session.sagemaker_client.describe_endpoint_config(\n\u001b[0;32m--> 531\u001b[0;31m             \u001b[0mEndpointConfigName\u001b[0m\u001b[0;34m=\u001b[0m\u001b[0mcurrent_endpoint_config_name\u001b[0m\u001b[0;34m\u001b[0m\u001b[0;34m\u001b[0m\u001b[0m\n\u001b[0m\u001b[1;32m    532\u001b[0m         )\n\u001b[1;32m    533\u001b[0m         \u001b[0mproduction_variants\u001b[0m \u001b[0;34m=\u001b[0m \u001b[0mendpoint_config\u001b[0m\u001b[0;34m[\u001b[0m\u001b[0;34m\"ProductionVariants\"\u001b[0m\u001b[0;34m]\u001b[0m\u001b[0;34m\u001b[0m\u001b[0;34m\u001b[0m\u001b[0m\n",
      "\u001b[0;32m~/anaconda3/envs/python3/lib/python3.6/site-packages/botocore/client.py\u001b[0m in \u001b[0;36m_api_call\u001b[0;34m(self, *args, **kwargs)\u001b[0m\n\u001b[1;32m    389\u001b[0m                     \"%s() only accepts keyword arguments.\" % py_operation_name)\n\u001b[1;32m    390\u001b[0m             \u001b[0;31m# The \"self\" in this scope is referring to the BaseClient.\u001b[0m\u001b[0;34m\u001b[0m\u001b[0;34m\u001b[0m\u001b[0;34m\u001b[0m\u001b[0m\n\u001b[0;32m--> 391\u001b[0;31m             \u001b[0;32mreturn\u001b[0m \u001b[0mself\u001b[0m\u001b[0;34m.\u001b[0m\u001b[0m_make_api_call\u001b[0m\u001b[0;34m(\u001b[0m\u001b[0moperation_name\u001b[0m\u001b[0;34m,\u001b[0m \u001b[0mkwargs\u001b[0m\u001b[0;34m)\u001b[0m\u001b[0;34m\u001b[0m\u001b[0;34m\u001b[0m\u001b[0m\n\u001b[0m\u001b[1;32m    392\u001b[0m \u001b[0;34m\u001b[0m\u001b[0m\n\u001b[1;32m    393\u001b[0m         \u001b[0m_api_call\u001b[0m\u001b[0;34m.\u001b[0m\u001b[0m__name__\u001b[0m \u001b[0;34m=\u001b[0m \u001b[0mstr\u001b[0m\u001b[0;34m(\u001b[0m\u001b[0mpy_operation_name\u001b[0m\u001b[0;34m)\u001b[0m\u001b[0;34m\u001b[0m\u001b[0;34m\u001b[0m\u001b[0m\n",
      "\u001b[0;32m~/anaconda3/envs/python3/lib/python3.6/site-packages/botocore/client.py\u001b[0m in \u001b[0;36m_make_api_call\u001b[0;34m(self, operation_name, api_params)\u001b[0m\n\u001b[1;32m    717\u001b[0m             \u001b[0merror_code\u001b[0m \u001b[0;34m=\u001b[0m \u001b[0mparsed_response\u001b[0m\u001b[0;34m.\u001b[0m\u001b[0mget\u001b[0m\u001b[0;34m(\u001b[0m\u001b[0;34m\"Error\"\u001b[0m\u001b[0;34m,\u001b[0m \u001b[0;34m{\u001b[0m\u001b[0;34m}\u001b[0m\u001b[0;34m)\u001b[0m\u001b[0;34m.\u001b[0m\u001b[0mget\u001b[0m\u001b[0;34m(\u001b[0m\u001b[0;34m\"Code\"\u001b[0m\u001b[0;34m)\u001b[0m\u001b[0;34m\u001b[0m\u001b[0;34m\u001b[0m\u001b[0m\n\u001b[1;32m    718\u001b[0m             \u001b[0merror_class\u001b[0m \u001b[0;34m=\u001b[0m \u001b[0mself\u001b[0m\u001b[0;34m.\u001b[0m\u001b[0mexceptions\u001b[0m\u001b[0;34m.\u001b[0m\u001b[0mfrom_code\u001b[0m\u001b[0;34m(\u001b[0m\u001b[0merror_code\u001b[0m\u001b[0;34m)\u001b[0m\u001b[0;34m\u001b[0m\u001b[0;34m\u001b[0m\u001b[0m\n\u001b[0;32m--> 719\u001b[0;31m             \u001b[0;32mraise\u001b[0m \u001b[0merror_class\u001b[0m\u001b[0;34m(\u001b[0m\u001b[0mparsed_response\u001b[0m\u001b[0;34m,\u001b[0m \u001b[0moperation_name\u001b[0m\u001b[0;34m)\u001b[0m\u001b[0;34m\u001b[0m\u001b[0;34m\u001b[0m\u001b[0m\n\u001b[0m\u001b[1;32m    720\u001b[0m         \u001b[0;32melse\u001b[0m\u001b[0;34m:\u001b[0m\u001b[0;34m\u001b[0m\u001b[0;34m\u001b[0m\u001b[0m\n\u001b[1;32m    721\u001b[0m             \u001b[0;32mreturn\u001b[0m \u001b[0mparsed_response\u001b[0m\u001b[0;34m\u001b[0m\u001b[0;34m\u001b[0m\u001b[0m\n",
      "\u001b[0;31mClientError\u001b[0m: An error occurred (ValidationException) when calling the DescribeEndpointConfig operation: Could not find endpoint configuration \"arn:aws:sagemaker:us-east-2:317987917227:endpoint-config/xgboost-2021-12-02-21-53-09-236\"."
     ]
    }
   ],
   "source": [
    "xgb_predictor.delete_endpoint()"
   ]
  },
  {
   "cell_type": "markdown",
   "id": "7989ba1a",
   "metadata": {},
   "source": [
    "# Batch Transform"
   ]
  },
  {
   "cell_type": "code",
   "execution_count": 70,
   "id": "f8177fd7",
   "metadata": {},
   "outputs": [],
   "source": [
    "transformer = xgb_model.transformer(\n",
    "    instance_count=1,\n",
    "    instance_type=\"ml.m5.large\",\n",
    "    output_path=\"s3://page2sage/predicted\"\n",
    ")"
   ]
  },
  {
   "cell_type": "code",
   "execution_count": 71,
   "id": "17e32fc1",
   "metadata": {},
   "outputs": [
    {
     "name": "stdout",
     "output_type": "stream",
     "text": [
      ".......................\u001b[34mArguments: serve\u001b[0m\n",
      "\u001b[34m[2021-12-02 22:28:09 +0000] [1] [INFO] Starting gunicorn 19.9.0\u001b[0m\n",
      "\u001b[34m[2021-12-02 22:28:09 +0000] [1] [INFO] Listening at: http://0.0.0.0:8080 (1)\u001b[0m\n",
      "\u001b[34m[2021-12-02 22:28:09 +0000] [1] [INFO] Using worker: gevent\u001b[0m\n",
      "\u001b[34m[2021-12-02 22:28:09 +0000] [21] [INFO] Booting worker with pid: 21\u001b[0m\n",
      "\u001b[34m[2021-12-02 22:28:09 +0000] [22] [INFO] Booting worker with pid: 22\u001b[0m\n",
      "\u001b[34m/opt/amazon/lib/python3.7/site-packages/gunicorn/workers/ggevent.py:65: MonkeyPatchWarning: Monkey-patching ssl after ssl has already been imported may lead to errors, including RecursionError on Python 3.6. It may also silently lead to incorrect behaviour on Python 3.7. Please monkey-patch earlier. See https://github.com/gevent/gevent/issues/1016. Modules that had direct imports (NOT patched): ['urllib3.util (/opt/amazon/lib/python3.7/site-packages/urllib3/util/__init__.py)', 'urllib3.util.ssl_ (/opt/amazon/lib/python3.7/site-packages/urllib3/util/ssl_.py)']. \n",
      "  monkey.patch_all(subprocess=True)\u001b[0m\n",
      "\u001b[34m[2021-12-02:22:28:09:INFO] Model loaded successfully for worker : 21\u001b[0m\n",
      "\u001b[34m/opt/amazon/lib/python3.7/site-packages/gunicorn/workers/ggevent.py:65: MonkeyPatchWarning: Monkey-patching ssl after ssl has already been imported may lead to errors, including RecursionError on Python 3.6. It may also silently lead to incorrect behaviour on Python 3.7. Please monkey-patch earlier. See https://github.com/gevent/gevent/issues/1016. Modules that had direct imports (NOT patched): ['urllib3.util (/opt/amazon/lib/python3.7/site-packages/urllib3/util/__init__.py)', 'urllib3.util.ssl_ (/opt/amazon/lib/python3.7/site-packages/urllib3/util/ssl_.py)']. \n",
      "  monkey.patch_all(subprocess=True)\u001b[0m\n",
      "\u001b[34m[2021-12-02:22:28:09:INFO] Model loaded successfully for worker : 22\u001b[0m\n",
      "\n",
      "\u001b[34m[2021-12-02:22:28:13:INFO] Sniff delimiter as ','\u001b[0m\n",
      "\u001b[34m[2021-12-02:22:28:13:INFO] Determined delimiter of CSV input is ','\u001b[0m\n",
      "\u001b[34m[2021-12-02:22:28:13:ERROR] Feature size of csv inference data 38 is not consistent with feature size of trained model 37\u001b[0m\n",
      "\u001b[34mTraceback (most recent call last):\n",
      "  File \"/opt/amazon/lib/python3.7/site-packages/sage_xgboost/serve.py\", line 269, in invocations\n",
      "    preds = ScoringService.predict(data=dtest, content_type=content_type, model_format=format)\n",
      "  File \"/opt/amazon/lib/python3.7/site-packages/sage_xgboost/serve.py\", line 126, in predict\n",
      "    'with feature size of trained model {}'.format(y, x))\u001b[0m\n",
      "\u001b[34mValueError: Feature size of csv inference data 38 is not consistent with feature size of trained model 37\u001b[0m\n",
      "\u001b[35m[2021-12-02:22:28:13:INFO] Sniff delimiter as ','\u001b[0m\n",
      "\u001b[35m[2021-12-02:22:28:13:INFO] Determined delimiter of CSV input is ','\u001b[0m\n",
      "\u001b[35m[2021-12-02:22:28:13:ERROR] Feature size of csv inference data 38 is not consistent with feature size of trained model 37\u001b[0m\n",
      "\u001b[35mTraceback (most recent call last):\n",
      "  File \"/opt/amazon/lib/python3.7/site-packages/sage_xgboost/serve.py\", line 269, in invocations\n",
      "    preds = ScoringService.predict(data=dtest, content_type=content_type, model_format=format)\n",
      "  File \"/opt/amazon/lib/python3.7/site-packages/sage_xgboost/serve.py\", line 126, in predict\n",
      "    'with feature size of trained model {}'.format(y, x))\u001b[0m\n",
      "\u001b[35mValueError: Feature size of csv inference data 38 is not consistent with feature size of trained model 37\u001b[0m\n",
      "\u001b[32m2021-12-02T22:28:13.515:[sagemaker logs]: MaxConcurrentTransforms=2, MaxPayloadInMB=6, BatchStrategy=MULTI_RECORD\u001b[0m\n",
      "\u001b[32m2021-12-02T22:28:13.763:[sagemaker logs]: page2sage/eval/eval.csv: ClientError: 400\u001b[0m\n",
      "\u001b[32m2021-12-02T22:28:13.763:[sagemaker logs]: page2sage/eval/eval.csv: \u001b[0m\n",
      "\u001b[32m2021-12-02T22:28:13.763:[sagemaker logs]: page2sage/eval/eval.csv: Message:\u001b[0m\n",
      "\u001b[32m2021-12-02T22:28:13.763:[sagemaker logs]: page2sage/eval/eval.csv: Unable to evaluate payload provided: Feature size of csv inference data 38 is not consistent with feature size of trained model 37\u001b[0m\n"
     ]
    },
    {
     "ename": "UnexpectedStatusException",
     "evalue": "Error for Transform job xgboost-2021-12-02-22-24-27-891: Failed. Reason: ClientError: See job logs for more information",
     "output_type": "error",
     "traceback": [
      "\u001b[0;31m---------------------------------------------------------------------------\u001b[0m",
      "\u001b[0;31mUnexpectedStatusException\u001b[0m                 Traceback (most recent call last)",
      "\u001b[0;32m<ipython-input-71-cc31000b5dce>\u001b[0m in \u001b[0;36m<module>\u001b[0;34m\u001b[0m\n\u001b[1;32m      2\u001b[0m     \u001b[0mdata\u001b[0m\u001b[0;34m=\u001b[0m\u001b[0;34m\"s3://page2sage/eval/\"\u001b[0m\u001b[0;34m,\u001b[0m\u001b[0;34m\u001b[0m\u001b[0;34m\u001b[0m\u001b[0m\n\u001b[1;32m      3\u001b[0m     \u001b[0mdata_type\u001b[0m\u001b[0;34m=\u001b[0m\u001b[0;34m\"S3Prefix\"\u001b[0m\u001b[0;34m,\u001b[0m\u001b[0;34m\u001b[0m\u001b[0;34m\u001b[0m\u001b[0m\n\u001b[0;32m----> 4\u001b[0;31m     \u001b[0mcontent_type\u001b[0m\u001b[0;34m=\u001b[0m\u001b[0;34m\"text/csv\"\u001b[0m\u001b[0;34m\u001b[0m\u001b[0;34m\u001b[0m\u001b[0m\n\u001b[0m\u001b[1;32m      5\u001b[0m )\n",
      "\u001b[0;32m~/anaconda3/envs/python3/lib/python3.6/site-packages/sagemaker/transformer.py\u001b[0m in \u001b[0;36mtransform\u001b[0;34m(self, data, data_type, content_type, compression_type, split_type, job_name, input_filter, output_filter, join_source, experiment_config, model_client_config, wait, logs)\u001b[0m\n\u001b[1;32m    223\u001b[0m \u001b[0;34m\u001b[0m\u001b[0m\n\u001b[1;32m    224\u001b[0m         \u001b[0;32mif\u001b[0m \u001b[0mwait\u001b[0m\u001b[0;34m:\u001b[0m\u001b[0;34m\u001b[0m\u001b[0;34m\u001b[0m\u001b[0m\n\u001b[0;32m--> 225\u001b[0;31m             \u001b[0mself\u001b[0m\u001b[0;34m.\u001b[0m\u001b[0mlatest_transform_job\u001b[0m\u001b[0;34m.\u001b[0m\u001b[0mwait\u001b[0m\u001b[0;34m(\u001b[0m\u001b[0mlogs\u001b[0m\u001b[0;34m=\u001b[0m\u001b[0mlogs\u001b[0m\u001b[0;34m)\u001b[0m\u001b[0;34m\u001b[0m\u001b[0;34m\u001b[0m\u001b[0m\n\u001b[0m\u001b[1;32m    226\u001b[0m \u001b[0;34m\u001b[0m\u001b[0m\n\u001b[1;32m    227\u001b[0m     \u001b[0;32mdef\u001b[0m \u001b[0mdelete_model\u001b[0m\u001b[0;34m(\u001b[0m\u001b[0mself\u001b[0m\u001b[0;34m)\u001b[0m\u001b[0;34m:\u001b[0m\u001b[0;34m\u001b[0m\u001b[0;34m\u001b[0m\u001b[0m\n",
      "\u001b[0;32m~/anaconda3/envs/python3/lib/python3.6/site-packages/sagemaker/transformer.py\u001b[0m in \u001b[0;36mwait\u001b[0;34m(self, logs)\u001b[0m\n\u001b[1;32m    419\u001b[0m     \u001b[0;32mdef\u001b[0m \u001b[0mwait\u001b[0m\u001b[0;34m(\u001b[0m\u001b[0mself\u001b[0m\u001b[0;34m,\u001b[0m \u001b[0mlogs\u001b[0m\u001b[0;34m=\u001b[0m\u001b[0;32mTrue\u001b[0m\u001b[0;34m)\u001b[0m\u001b[0;34m:\u001b[0m\u001b[0;34m\u001b[0m\u001b[0;34m\u001b[0m\u001b[0m\n\u001b[1;32m    420\u001b[0m         \u001b[0;32mif\u001b[0m \u001b[0mlogs\u001b[0m\u001b[0;34m:\u001b[0m\u001b[0;34m\u001b[0m\u001b[0;34m\u001b[0m\u001b[0m\n\u001b[0;32m--> 421\u001b[0;31m             \u001b[0mself\u001b[0m\u001b[0;34m.\u001b[0m\u001b[0msagemaker_session\u001b[0m\u001b[0;34m.\u001b[0m\u001b[0mlogs_for_transform_job\u001b[0m\u001b[0;34m(\u001b[0m\u001b[0mself\u001b[0m\u001b[0;34m.\u001b[0m\u001b[0mjob_name\u001b[0m\u001b[0;34m,\u001b[0m \u001b[0mwait\u001b[0m\u001b[0;34m=\u001b[0m\u001b[0;32mTrue\u001b[0m\u001b[0;34m)\u001b[0m\u001b[0;34m\u001b[0m\u001b[0;34m\u001b[0m\u001b[0m\n\u001b[0m\u001b[1;32m    422\u001b[0m         \u001b[0;32melse\u001b[0m\u001b[0;34m:\u001b[0m\u001b[0;34m\u001b[0m\u001b[0;34m\u001b[0m\u001b[0m\n\u001b[1;32m    423\u001b[0m             \u001b[0mself\u001b[0m\u001b[0;34m.\u001b[0m\u001b[0msagemaker_session\u001b[0m\u001b[0;34m.\u001b[0m\u001b[0mwait_for_transform_job\u001b[0m\u001b[0;34m(\u001b[0m\u001b[0mself\u001b[0m\u001b[0;34m.\u001b[0m\u001b[0mjob_name\u001b[0m\u001b[0;34m)\u001b[0m\u001b[0;34m\u001b[0m\u001b[0;34m\u001b[0m\u001b[0m\n",
      "\u001b[0;32m~/anaconda3/envs/python3/lib/python3.6/site-packages/sagemaker/session.py\u001b[0m in \u001b[0;36mlogs_for_transform_job\u001b[0;34m(self, job_name, wait, poll)\u001b[0m\n\u001b[1;32m   3946\u001b[0m \u001b[0;34m\u001b[0m\u001b[0m\n\u001b[1;32m   3947\u001b[0m         \u001b[0;32mif\u001b[0m \u001b[0mwait\u001b[0m\u001b[0;34m:\u001b[0m\u001b[0;34m\u001b[0m\u001b[0;34m\u001b[0m\u001b[0m\n\u001b[0;32m-> 3948\u001b[0;31m             \u001b[0mself\u001b[0m\u001b[0;34m.\u001b[0m\u001b[0m_check_job_status\u001b[0m\u001b[0;34m(\u001b[0m\u001b[0mjob_name\u001b[0m\u001b[0;34m,\u001b[0m \u001b[0mdescription\u001b[0m\u001b[0;34m,\u001b[0m \u001b[0;34m\"TransformJobStatus\"\u001b[0m\u001b[0;34m)\u001b[0m\u001b[0;34m\u001b[0m\u001b[0;34m\u001b[0m\u001b[0m\n\u001b[0m\u001b[1;32m   3949\u001b[0m             \u001b[0;32mif\u001b[0m \u001b[0mdot\u001b[0m\u001b[0;34m:\u001b[0m\u001b[0;34m\u001b[0m\u001b[0;34m\u001b[0m\u001b[0m\n\u001b[1;32m   3950\u001b[0m                 \u001b[0mprint\u001b[0m\u001b[0;34m(\u001b[0m\u001b[0;34m)\u001b[0m\u001b[0;34m\u001b[0m\u001b[0;34m\u001b[0m\u001b[0m\n",
      "\u001b[0;32m~/anaconda3/envs/python3/lib/python3.6/site-packages/sagemaker/session.py\u001b[0m in \u001b[0;36m_check_job_status\u001b[0;34m(self, job, desc, status_key_name)\u001b[0m\n\u001b[1;32m   3333\u001b[0m                 ),\n\u001b[1;32m   3334\u001b[0m                 \u001b[0mallowed_statuses\u001b[0m\u001b[0;34m=\u001b[0m\u001b[0;34m[\u001b[0m\u001b[0;34m\"Completed\"\u001b[0m\u001b[0;34m,\u001b[0m \u001b[0;34m\"Stopped\"\u001b[0m\u001b[0;34m]\u001b[0m\u001b[0;34m,\u001b[0m\u001b[0;34m\u001b[0m\u001b[0;34m\u001b[0m\u001b[0m\n\u001b[0;32m-> 3335\u001b[0;31m                 \u001b[0mactual_status\u001b[0m\u001b[0;34m=\u001b[0m\u001b[0mstatus\u001b[0m\u001b[0;34m,\u001b[0m\u001b[0;34m\u001b[0m\u001b[0;34m\u001b[0m\u001b[0m\n\u001b[0m\u001b[1;32m   3336\u001b[0m             )\n\u001b[1;32m   3337\u001b[0m \u001b[0;34m\u001b[0m\u001b[0m\n",
      "\u001b[0;31mUnexpectedStatusException\u001b[0m: Error for Transform job xgboost-2021-12-02-22-24-27-891: Failed. Reason: ClientError: See job logs for more information"
     ]
    }
   ],
   "source": [
    "transformer.transform(\n",
    "    data=\"s3://page2sage/eval/\",\n",
    "    data_type=\"S3Prefix\",\n",
    "    content_type=\"text/csv\"\n",
    ")"
   ]
  },
  {
   "cell_type": "code",
   "execution_count": null,
   "id": "9d5644b8",
   "metadata": {},
   "outputs": [],
   "source": [
    "transformer.wait()"
   ]
  },
  {
   "cell_type": "code",
   "execution_count": null,
   "id": "fae69230",
   "metadata": {},
   "outputs": [],
   "source": [
    "\n",
    "!aws s3 ls s3://sage2page/predicted/ "
   ]
  },
  {
   "cell_type": "code",
   "execution_count": null,
   "id": "d0b128c9",
   "metadata": {},
   "outputs": [],
   "source": [
    "!aws s3 cp s3://sage2page/predicted/ ../data/predicted.csv\n",
    "!head ../data/predicted.csv"
   ]
  },
  {
   "cell_type": "code",
   "execution_count": null,
   "id": "21864a73",
   "metadata": {},
   "outputs": [],
   "source": []
  }
 ],
 "metadata": {
  "kernelspec": {
   "display_name": "conda_python3",
   "language": "python",
   "name": "conda_python3"
  },
  "language_info": {
   "codemirror_mode": {
    "name": "ipython",
    "version": 3
   },
   "file_extension": ".py",
   "mimetype": "text/x-python",
   "name": "python",
   "nbconvert_exporter": "python",
   "pygments_lexer": "ipython3",
   "version": "3.6.13"
  }
 },
 "nbformat": 4,
 "nbformat_minor": 5
}
