{
 "cells": [
  {
   "cell_type": "code",
   "execution_count": 43,
   "id": "8b82badd",
   "metadata": {},
   "outputs": [],
   "source": [
    "import sagemaker\n",
    "from datetime import datetime\n",
    "from sagemaker.session import TrainingInput\n",
    "from sagemaker.serializers import CSVSerializer\n",
    "from sagemaker.tuner import HyperparameterTuner\n",
    "from sagemaker.parameter import ContinuousParameter, IntegerParameter"
   ]
  },
  {
   "cell_type": "code",
   "execution_count": 44,
   "id": "09aceaf5",
   "metadata": {},
   "outputs": [],
   "source": [
    "# Training "
   ]
  },
  {
   "cell_type": "code",
   "execution_count": 45,
   "id": "62708c5a",
   "metadata": {},
   "outputs": [],
   "source": [
    "BUCKET = \"page2sage\"\n",
    "\n",
    "region = sagemaker.Session().boto_region_name # AWS Region\n",
    "role = sagemaker.get_execution_role() # Rol de AMI para ejecución\n"
   ]
  },
  {
   "cell_type": "code",
   "execution_count": 46,
   "id": "feeeaef0",
   "metadata": {},
   "outputs": [],
   "source": [
    "container = sagemaker.image_uris.retrieve(\"xgboost\", region, \"latest\") # https://github.com/aws/sagemaker-python-sdk/tree/master/src/sagemaker/image_uri_config\n",
    "xgb_model = sagemaker.estimator.Estimator(\n",
    "    image_uri=container, \n",
    "    role=role,\n",
    "    instance_count=1, # Para Paralelizacion\n",
    "    instance_type=\"ml.m5.large\", # https://github.com/awsdocs/amazon-sagemaker-developer-guide/blob/master/doc_source/notebooks-available-instance-types.md\n",
    "    volume_size=5, # en GB\n",
    "    output_path=f\"s3://{BUCKET}/models/xgboost/\", # Donde guardar el modelo entrenado\n",
    "    sagemaker_session=sagemaker.Session()\n",
    ")\n",
    "xgb_model.set_hyperparameters(num_round=100)"
   ]
  },
  {
   "cell_type": "code",
   "execution_count": 47,
   "id": "f04037ce",
   "metadata": {},
   "outputs": [],
   "source": [
    "tuner = HyperparameterTuner(\n",
    "    xgb_model,\n",
    "    \"validation:rmse\",\n",
    "    hyperparameter_ranges={\n",
    "        \"max_depth\": IntegerParameter(1, 10),\n",
    "        \"eta\": ContinuousParameter(0, 1)\n",
    "    },\n",
    "    objective_type=\"Minimize\",\n",
    "    max_jobs=5\n",
    ")"
   ]
  },
  {
   "cell_type": "code",
   "execution_count": 48,
   "id": "d5b61999",
   "metadata": {},
   "outputs": [],
   "source": [
    "train_input = TrainingInput(\n",
    "    f\"s3://{BUCKET}/train/train.csv\", # S3 Data location\n",
    "    content_type=\"csv\", # Data type\n",
    "    s3_data_type=\"S3Prefix\" # [\"S3Prefix\", \"ManifestFile\", \"AugmentedManifestFile\"]\n",
    ")\n",
    "\n",
    "validation_input = TrainingInput(\n",
    "    f\"s3://{BUCKET}/validation/validation.csv\",\n",
    "    content_type=\"csv\",\n",
    "    s3_data_type=\"S3Prefix\"\n",
    ")"
   ]
  },
  {
   "cell_type": "code",
   "execution_count": 49,
   "id": "8d3d3f39",
   "metadata": {},
   "outputs": [
    {
     "name": "stdout",
     "output_type": "stream",
     "text": [
      "..............................................................................................................................................................................................................................!\n"
     ]
    }
   ],
   "source": [
    "tuner.fit({\"train\":train_input, \"validation\":validation_input}, wait=True)"
   ]
  },
  {
   "cell_type": "code",
   "execution_count": 50,
   "id": "97e205d8",
   "metadata": {},
   "outputs": [
    {
     "name": "stdout",
     "output_type": "stream",
     "text": [
      "\n",
      "2021-12-03 00:13:05 Starting - Preparing the instances for training\n",
      "2021-12-03 00:13:05 Downloading - Downloading input data\n",
      "2021-12-03 00:13:05 Training - Training image download completed. Training in progress.\n",
      "2021-12-03 00:13:05 Uploading - Uploading generated training model\n",
      "2021-12-03 00:13:05 Completed - Training job completed\n"
     ]
    },
    {
     "data": {
      "text/plain": [
       "<sagemaker.estimator.Estimator at 0x7fceec2b6278>"
      ]
     },
     "execution_count": 50,
     "metadata": {},
     "output_type": "execute_result"
    }
   ],
   "source": [
    "tuner.best_estimator()"
   ]
  },
  {
   "cell_type": "code",
   "execution_count": null,
   "id": "9a1c288f",
   "metadata": {},
   "outputs": [],
   "source": []
  }
 ],
 "metadata": {
  "kernelspec": {
   "display_name": "conda_python3",
   "language": "python",
   "name": "conda_python3"
  },
  "language_info": {
   "codemirror_mode": {
    "name": "ipython",
    "version": 3
   },
   "file_extension": ".py",
   "mimetype": "text/x-python",
   "name": "python",
   "nbconvert_exporter": "python",
   "pygments_lexer": "ipython3",
   "version": "3.6.13"
  }
 },
 "nbformat": 4,
 "nbformat_minor": 5
}
