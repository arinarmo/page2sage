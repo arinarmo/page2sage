{
 "cells": [
  {
   "cell_type": "code",
   "execution_count": 9,
   "id": "6035d36e",
   "metadata": {},
   "outputs": [],
   "source": [
    "import sagemaker\n",
    "from datetime import datetime\n",
    "from sagemaker.session import TrainingInput\n",
    "from sagemaker.serializers import CSVSerializer"
   ]
  },
  {
   "cell_type": "code",
   "execution_count": null,
   "id": "6e76a813",
   "metadata": {},
   "outputs": [],
   "source": [
    "# Training "
   ]
  },
  {
   "cell_type": "code",
   "execution_count": 2,
   "id": "e8586573",
   "metadata": {},
   "outputs": [],
   "source": [
    "BUCKET = \"page2sage\"\n",
    "\n",
    "region = sagemaker.Session().boto_region_name # AWS Region\n",
    "role = sagemaker.get_execution_role() # Rol de AMI para ejecución\n"
   ]
  },
  {
   "cell_type": "code",
   "execution_count": 3,
   "id": "c2e5fd29",
   "metadata": {},
   "outputs": [],
   "source": [
    "container = sagemaker.image_uris.retrieve(\"xgboost\", region, \"latest\") # https://github.com/aws/sagemaker-python-sdk/tree/master/src/sagemaker/image_uri_config\n",
    "xgb_model = sagemaker.estimator.Estimator(\n",
    "    image_uri=container, \n",
    "    role=role,\n",
    "    instance_count=1, # Para Paralelizacion\n",
    "    instance_type=\"ml.m5.large\", # https://github.com/awsdocs/amazon-sagemaker-developer-guide/blob/master/doc_source/notebooks-available-instance-types.md\n",
    "    volume_size=5, # en GB\n",
    "    output_path=f\"s3://{BUCKET}/models/xgboost/\", # Donde guardar el modelo entrenado\n",
    "    sagemaker_session=sagemaker.Session()\n",
    ")"
   ]
  },
  {
   "cell_type": "code",
   "execution_count": 4,
   "id": "9e876a93",
   "metadata": {},
   "outputs": [],
   "source": [
    "xgb_model.set_hyperparameters(\n",
    "    max_depth=5,\n",
    "    num_round=100\n",
    ")"
   ]
  },
  {
   "cell_type": "code",
   "execution_count": 5,
   "id": "2d84ae94",
   "metadata": {},
   "outputs": [],
   "source": [
    "train_input = TrainingInput(\n",
    "    f\"s3://{BUCKET}/train/train.csv\", # S3 Data location\n",
    "    content_type=\"csv\", # Data type\n",
    "    s3_data_type=\"S3Prefix\" # [\"S3Prefix\", \"ManifestFile\", \"AugmentedManifestFile\"]\n",
    ")\n",
    "\n",
    "validation_input = TrainingInput(\n",
    "    f\"s3://{BUCKET}/validation/validation.csv\",\n",
    "    content_type=\"csv\",\n",
    "    s3_data_type=\"S3Prefix\"\n",
    ")"
   ]
  },
  {
   "cell_type": "code",
   "execution_count": null,
   "id": "e21511ec",
   "metadata": {},
   "outputs": [
    {
     "name": "stdout",
     "output_type": "stream",
     "text": [
      "2021-12-02 08:57:52 Starting - Starting the training job...\n",
      "2021-12-02 08:58:15 Starting - Launching requested ML instancesProfilerReport-1638435472: InProgress\n",
      "...\n",
      "2021-12-02 08:58:41 Starting - Preparing the instances for training......"
     ]
    }
   ],
   "source": [
    "xgb_model.fit({\"train\":train_input, \"validation\":validation_input}, wait=True)"
   ]
  },
  {
   "cell_type": "markdown",
   "id": "1389e665",
   "metadata": {},
   "source": [
    "# Online Prediction "
   ]
  },
  {
   "cell_type": "code",
   "execution_count": 12,
   "id": "83c9a9e4",
   "metadata": {},
   "outputs": [
    {
     "name": "stdout",
     "output_type": "stream",
     "text": [
      "-------!"
     ]
    }
   ],
   "source": [
    "xgb_predictor = xgb_model.deploy(initial_instance_count=1, instance_type=\"ml.t2.medium\", serializer=CSVSerializer())"
   ]
  },
  {
   "cell_type": "code",
   "execution_count": 30,
   "id": "b736b3e7",
   "metadata": {},
   "outputs": [
    {
     "name": "stdout",
     "output_type": "stream",
     "text": [
      "OverallQual              8.000000\n",
      "OverallCond              5.000000\n",
      "YearBuilt             2004.000000\n",
      "YearRemodAdd          2005.000000\n",
      "FullBath                 2.000000\n",
      "BedroomAbvGr             3.000000\n",
      "TotRmsAbvGrd             7.000000\n",
      "Fireplaces               1.000000\n",
      "LogLotFrontage           2.029384\n",
      "LogLotArea               4.055455\n",
      "LogGrLivArea             3.263873\n",
      "MSZoning_C (all)         0.000000\n",
      "MSZoning_FV              0.000000\n",
      "MSZoning_RH              0.000000\n",
      "MSZoning_RL              1.000000\n",
      "MSZoning_RM              0.000000\n",
      "RoofStyle_Flat           0.000000\n",
      "RoofStyle_Gable          1.000000\n",
      "RoofStyle_Gambrel        0.000000\n",
      "RoofStyle_Hip            0.000000\n",
      "RoofStyle_Mansard        0.000000\n",
      "RoofStyle_Shed           0.000000\n",
      "GarageType_2Types        0.000000\n",
      "GarageType_Attchd        1.000000\n",
      "GarageType_Basment       0.000000\n",
      "GarageType_BuiltIn       0.000000\n",
      "GarageType_CarPort       0.000000\n",
      "GarageType_Detchd        0.000000\n",
      "GarageType_None          0.000000\n",
      "HouseStyle_1.5Fin        0.000000\n",
      "HouseStyle_1.5Unf        0.000000\n",
      "HouseStyle_1Story        1.000000\n",
      "HouseStyle_2.5Fin        0.000000\n",
      "HouseStyle_2.5Unf        0.000000\n",
      "HouseStyle_2Story        0.000000\n",
      "HouseStyle_SFoyer        0.000000\n",
      "HouseStyle_SLvl          0.000000\n",
      "Name: 941, dtype: float64\n",
      "The value for this property is: 274606.42201813625\n"
     ]
    }
   ],
   "source": [
    "import pandas as pd\n",
    "eval_data = pd.read_csv(\"../data/eval.csv\", header=None)\n",
    "with open(\"../data/columns.txt\") as f:\n",
    "    eval_data.columns = f.read().split(\"\\n\")\n",
    "sample = eval_data.sample(1).iloc[0]\n",
    "print(sample)\n",
    "print(f\"The value for this property is: {10**float(xgb_predictor.predict(sample))}\")"
   ]
  },
  {
   "cell_type": "code",
   "execution_count": 31,
   "id": "3dffeee5",
   "metadata": {},
   "outputs": [
    {
     "name": "stdout",
     "output_type": "stream",
     "text": [
      "OverallQual              8.000000\n",
      "OverallCond              5.000000\n",
      "YearBuilt             2004.000000\n",
      "YearRemodAdd          2020.000000\n",
      "FullBath                 2.000000\n",
      "BedroomAbvGr             3.000000\n",
      "TotRmsAbvGrd             7.000000\n",
      "Fireplaces               1.000000\n",
      "LogLotFrontage           2.029384\n",
      "LogLotArea               4.055455\n",
      "LogGrLivArea             3.263873\n",
      "MSZoning_C (all)         0.000000\n",
      "MSZoning_FV              0.000000\n",
      "MSZoning_RH              0.000000\n",
      "MSZoning_RL              1.000000\n",
      "MSZoning_RM              0.000000\n",
      "RoofStyle_Flat           0.000000\n",
      "RoofStyle_Gable          1.000000\n",
      "RoofStyle_Gambrel        0.000000\n",
      "RoofStyle_Hip            0.000000\n",
      "RoofStyle_Mansard        0.000000\n",
      "RoofStyle_Shed           0.000000\n",
      "GarageType_2Types        0.000000\n",
      "GarageType_Attchd        1.000000\n",
      "GarageType_Basment       0.000000\n",
      "GarageType_BuiltIn       0.000000\n",
      "GarageType_CarPort       0.000000\n",
      "GarageType_Detchd        0.000000\n",
      "GarageType_None          0.000000\n",
      "HouseStyle_1.5Fin        0.000000\n",
      "HouseStyle_1.5Unf        0.000000\n",
      "HouseStyle_1Story        1.000000\n",
      "HouseStyle_2.5Fin        0.000000\n",
      "HouseStyle_2.5Unf        0.000000\n",
      "HouseStyle_2Story        0.000000\n",
      "HouseStyle_SFoyer        0.000000\n",
      "HouseStyle_SLvl          0.000000\n",
      "Name: 941, dtype: float64\n",
      "The value for this property is: 296577.6399058261\n"
     ]
    }
   ],
   "source": [
    "sample[\"YearRemodAdd\"] = 2020\n",
    "print(sample)\n",
    "print(f\"The value for this property is: {10**float(xgb_predictor.predict(sample))}\")"
   ]
  },
  {
   "cell_type": "code",
   "execution_count": 27,
   "id": "144a0567",
   "metadata": {},
   "outputs": [
    {
     "data": {
      "text/plain": [
       "'xgboost-2021-12-02-21-53-09-236'"
      ]
     },
     "execution_count": 27,
     "metadata": {},
     "output_type": "execute_result"
    }
   ],
   "source": [
    "xgb_predictor.endpoint_name"
   ]
  },
  {
   "cell_type": "code",
   "execution_count": 66,
   "id": "47099075",
   "metadata": {},
   "outputs": [
    {
     "data": {
      "text/plain": [
       "296577.6399058261"
      ]
     },
     "execution_count": 66,
     "metadata": {},
     "output_type": "execute_result"
    }
   ],
   "source": [
    "from sagemaker.predictor import Predictor\n",
    "ser = CSVSerializer()\n",
    "predictor = Predictor(xgb_predictor.endpoint_name, sagemaker_session=sagemaker.Session(), serializer=CSVSerializer())\n",
    "10**float(predictor.predict(ser.serialize(sample)))"
   ]
  },
  {
   "cell_type": "code",
   "execution_count": null,
   "id": "6dfe8b04",
   "metadata": {},
   "outputs": [],
   "source": [
    "xgb_predictor.delete_endpoint()"
   ]
  },
  {
   "cell_type": "markdown",
   "id": "2fcc36ef",
   "metadata": {},
   "source": [
    "# Batch Transform"
   ]
  },
  {
   "cell_type": "code",
   "execution_count": 70,
   "id": "a9a44865",
   "metadata": {},
   "outputs": [],
   "source": [
    "transformer = xgb_model.transformer(\n",
    "    instance_count=1,\n",
    "    instance_type=\"ml.m5.large\",\n",
    "    output_path=\"s3://page2sage/predicted\"\n",
    ")"
   ]
  },
  {
   "cell_type": "code",
   "execution_count": 72,
   "id": "e11f60c0",
   "metadata": {},
   "outputs": [
    {
     "name": "stdout",
     "output_type": "stream",
     "text": [
      ".........................\u001b[34mArguments: serve\u001b[0m\n",
      "\u001b[34m[2021-12-02 22:41:39 +0000] [1] [INFO] Starting gunicorn 19.9.0\u001b[0m\n",
      "\u001b[35mArguments: serve\u001b[0m\n",
      "\u001b[35m[2021-12-02 22:41:39 +0000] [1] [INFO] Starting gunicorn 19.9.0\u001b[0m\n",
      "\u001b[34m[2021-12-02 22:41:39 +0000] [1] [INFO] Listening at: http://0.0.0.0:8080 (1)\u001b[0m\n",
      "\u001b[34m[2021-12-02 22:41:39 +0000] [1] [INFO] Using worker: gevent\u001b[0m\n",
      "\u001b[34m[2021-12-02 22:41:39 +0000] [21] [INFO] Booting worker with pid: 21\u001b[0m\n",
      "\u001b[34m/opt/amazon/lib/python3.7/site-packages/gunicorn/workers/ggevent.py:65: MonkeyPatchWarning: Monkey-patching ssl after ssl has already been imported may lead to errors, including RecursionError on Python 3.6. It may also silently lead to incorrect behaviour on Python 3.7. Please monkey-patch earlier. See https://github.com/gevent/gevent/issues/1016. Modules that had direct imports (NOT patched): ['urllib3.util (/opt/amazon/lib/python3.7/site-packages/urllib3/util/__init__.py)', 'urllib3.util.ssl_ (/opt/amazon/lib/python3.7/site-packages/urllib3/util/ssl_.py)']. \n",
      "  monkey.patch_all(subprocess=True)\u001b[0m\n",
      "\u001b[34m[2021-12-02 22:41:39 +0000] [22] [INFO] Booting worker with pid: 22\u001b[0m\n",
      "\u001b[34m[2021-12-02:22:41:39:INFO] Model loaded successfully for worker : 21\u001b[0m\n",
      "\u001b[34m/opt/amazon/lib/python3.7/site-packages/gunicorn/workers/ggevent.py:65: MonkeyPatchWarning: Monkey-patching ssl after ssl has already been imported may lead to errors, including RecursionError on Python 3.6. It may also silently lead to incorrect behaviour on Python 3.7. Please monkey-patch earlier. See https://github.com/gevent/gevent/issues/1016. Modules that had direct imports (NOT patched): ['urllib3.util (/opt/amazon/lib/python3.7/site-packages/urllib3/util/__init__.py)', 'urllib3.util.ssl_ (/opt/amazon/lib/python3.7/site-packages/urllib3/util/ssl_.py)']. \n",
      "  monkey.patch_all(subprocess=True)\u001b[0m\n",
      "\u001b[34m[2021-12-02:22:41:39:INFO] Model loaded successfully for worker : 22\u001b[0m\n",
      "\u001b[35m[2021-12-02 22:41:39 +0000] [1] [INFO] Listening at: http://0.0.0.0:8080 (1)\u001b[0m\n",
      "\u001b[35m[2021-12-02 22:41:39 +0000] [1] [INFO] Using worker: gevent\u001b[0m\n",
      "\u001b[35m[2021-12-02 22:41:39 +0000] [21] [INFO] Booting worker with pid: 21\u001b[0m\n",
      "\u001b[35m/opt/amazon/lib/python3.7/site-packages/gunicorn/workers/ggevent.py:65: MonkeyPatchWarning: Monkey-patching ssl after ssl has already been imported may lead to errors, including RecursionError on Python 3.6. It may also silently lead to incorrect behaviour on Python 3.7. Please monkey-patch earlier. See https://github.com/gevent/gevent/issues/1016. Modules that had direct imports (NOT patched): ['urllib3.util (/opt/amazon/lib/python3.7/site-packages/urllib3/util/__init__.py)', 'urllib3.util.ssl_ (/opt/amazon/lib/python3.7/site-packages/urllib3/util/ssl_.py)']. \n",
      "  monkey.patch_all(subprocess=True)\u001b[0m\n",
      "\u001b[35m[2021-12-02 22:41:39 +0000] [22] [INFO] Booting worker with pid: 22\u001b[0m\n",
      "\u001b[35m[2021-12-02:22:41:39:INFO] Model loaded successfully for worker : 21\u001b[0m\n",
      "\u001b[35m/opt/amazon/lib/python3.7/site-packages/gunicorn/workers/ggevent.py:65: MonkeyPatchWarning: Monkey-patching ssl after ssl has already been imported may lead to errors, including RecursionError on Python 3.6. It may also silently lead to incorrect behaviour on Python 3.7. Please monkey-patch earlier. See https://github.com/gevent/gevent/issues/1016. Modules that had direct imports (NOT patched): ['urllib3.util (/opt/amazon/lib/python3.7/site-packages/urllib3/util/__init__.py)', 'urllib3.util.ssl_ (/opt/amazon/lib/python3.7/site-packages/urllib3/util/ssl_.py)']. \n",
      "  monkey.patch_all(subprocess=True)\u001b[0m\n",
      "\u001b[35m[2021-12-02:22:41:39:INFO] Model loaded successfully for worker : 22\u001b[0m\n",
      "\u001b[34m[2021-12-02:22:41:43:INFO] Sniff delimiter as ','\u001b[0m\n",
      "\u001b[35m[2021-12-02:22:41:43:INFO] Sniff delimiter as ','\u001b[0m\n",
      "\u001b[34m[2021-12-02:22:41:43:INFO] Determined delimiter of CSV input is ','\u001b[0m\n",
      "\u001b[35m[2021-12-02:22:41:43:INFO] Determined delimiter of CSV input is ','\u001b[0m\n",
      "\u001b[32m2021-12-02T22:41:43.843:[sagemaker logs]: MaxConcurrentTransforms=2, MaxPayloadInMB=6, BatchStrategy=MULTI_RECORD\u001b[0m\n",
      "\n"
     ]
    }
   ],
   "source": [
    "transformer.transform(\n",
    "    data=\"s3://page2sage/eval/\",\n",
    "    data_type=\"S3Prefix\",\n",
    "    content_type=\"text/csv\"\n",
    ")"
   ]
  },
  {
   "cell_type": "code",
   "execution_count": 73,
   "id": "319bb28f",
   "metadata": {},
   "outputs": [
    {
     "name": "stdout",
     "output_type": "stream",
     "text": [
      "\u001b[34mArguments: serve\u001b[0m\n",
      "\u001b[34m[2021-12-02 22:41:39 +0000] [1] [INFO] Starting gunicorn 19.9.0\u001b[0m\n",
      "\u001b[35mArguments: serve\u001b[0m\n",
      "\u001b[35m[2021-12-02 22:41:39 +0000] [1] [INFO] Starting gunicorn 19.9.0\u001b[0m\n",
      "\u001b[34m[2021-12-02 22:41:39 +0000] [1] [INFO] Listening at: http://0.0.0.0:8080 (1)\u001b[0m\n",
      "\u001b[34m[2021-12-02 22:41:39 +0000] [1] [INFO] Using worker: gevent\u001b[0m\n",
      "\u001b[34m[2021-12-02 22:41:39 +0000] [21] [INFO] Booting worker with pid: 21\u001b[0m\n",
      "\u001b[34m/opt/amazon/lib/python3.7/site-packages/gunicorn/workers/ggevent.py:65: MonkeyPatchWarning: Monkey-patching ssl after ssl has already been imported may lead to errors, including RecursionError on Python 3.6. It may also silently lead to incorrect behaviour on Python 3.7. Please monkey-patch earlier. See https://github.com/gevent/gevent/issues/1016. Modules that had direct imports (NOT patched): ['urllib3.util (/opt/amazon/lib/python3.7/site-packages/urllib3/util/__init__.py)', 'urllib3.util.ssl_ (/opt/amazon/lib/python3.7/site-packages/urllib3/util/ssl_.py)']. \n",
      "  monkey.patch_all(subprocess=True)\u001b[0m\n",
      "\u001b[34m[2021-12-02 22:41:39 +0000] [22] [INFO] Booting worker with pid: 22\u001b[0m\n",
      "\u001b[34m[2021-12-02:22:41:39:INFO] Model loaded successfully for worker : 21\u001b[0m\n",
      "\u001b[34m/opt/amazon/lib/python3.7/site-packages/gunicorn/workers/ggevent.py:65: MonkeyPatchWarning: Monkey-patching ssl after ssl has already been imported may lead to errors, including RecursionError on Python 3.6. It may also silently lead to incorrect behaviour on Python 3.7. Please monkey-patch earlier. See https://github.com/gevent/gevent/issues/1016. Modules that had direct imports (NOT patched): ['urllib3.util (/opt/amazon/lib/python3.7/site-packages/urllib3/util/__init__.py)', 'urllib3.util.ssl_ (/opt/amazon/lib/python3.7/site-packages/urllib3/util/ssl_.py)']. \n",
      "  monkey.patch_all(subprocess=True)\u001b[0m\n",
      "\u001b[34m[2021-12-02:22:41:39:INFO] Model loaded successfully for worker : 22\u001b[0m\n",
      "\u001b[35m[2021-12-02 22:41:39 +0000] [1] [INFO] Listening at: http://0.0.0.0:8080 (1)\u001b[0m\n",
      "\u001b[35m[2021-12-02 22:41:39 +0000] [1] [INFO] Using worker: gevent\u001b[0m\n",
      "\u001b[35m[2021-12-02 22:41:39 +0000] [21] [INFO] Booting worker with pid: 21\u001b[0m\n",
      "\u001b[35m/opt/amazon/lib/python3.7/site-packages/gunicorn/workers/ggevent.py:65: MonkeyPatchWarning: Monkey-patching ssl after ssl has already been imported may lead to errors, including RecursionError on Python 3.6. It may also silently lead to incorrect behaviour on Python 3.7. Please monkey-patch earlier. See https://github.com/gevent/gevent/issues/1016. Modules that had direct imports (NOT patched): ['urllib3.util (/opt/amazon/lib/python3.7/site-packages/urllib3/util/__init__.py)', 'urllib3.util.ssl_ (/opt/amazon/lib/python3.7/site-packages/urllib3/util/ssl_.py)']. \n",
      "  monkey.patch_all(subprocess=True)\u001b[0m\n",
      "\u001b[35m[2021-12-02 22:41:39 +0000] [22] [INFO] Booting worker with pid: 22\u001b[0m\n",
      "\u001b[35m[2021-12-02:22:41:39:INFO] Model loaded successfully for worker : 21\u001b[0m\n",
      "\u001b[35m/opt/amazon/lib/python3.7/site-packages/gunicorn/workers/ggevent.py:65: MonkeyPatchWarning: Monkey-patching ssl after ssl has already been imported may lead to errors, including RecursionError on Python 3.6. It may also silently lead to incorrect behaviour on Python 3.7. Please monkey-patch earlier. See https://github.com/gevent/gevent/issues/1016. Modules that had direct imports (NOT patched): ['urllib3.util (/opt/amazon/lib/python3.7/site-packages/urllib3/util/__init__.py)', 'urllib3.util.ssl_ (/opt/amazon/lib/python3.7/site-packages/urllib3/util/ssl_.py)']. \n",
      "  monkey.patch_all(subprocess=True)\u001b[0m\n",
      "\u001b[35m[2021-12-02:22:41:39:INFO] Model loaded successfully for worker : 22\u001b[0m\n",
      "\u001b[34m[2021-12-02:22:41:43:INFO] Sniff delimiter as ','\u001b[0m\n",
      "\u001b[35m[2021-12-02:22:41:43:INFO] Sniff delimiter as ','\u001b[0m\n",
      "\u001b[34m[2021-12-02:22:41:43:INFO] Determined delimiter of CSV input is ','\u001b[0m\n",
      "\u001b[35m[2021-12-02:22:41:43:INFO] Determined delimiter of CSV input is ','\u001b[0m\n",
      "\u001b[32m2021-12-02T22:41:43.843:[sagemaker logs]: MaxConcurrentTransforms=2, MaxPayloadInMB=6, BatchStrategy=MULTI_RECORD\u001b[0m\n"
     ]
    }
   ],
   "source": [
    "transformer.wait()"
   ]
  },
  {
   "cell_type": "code",
   "execution_count": 77,
   "id": "61617cc5",
   "metadata": {},
   "outputs": [
    {
     "name": "stdout",
     "output_type": "stream",
     "text": [
      "2021-12-02 22:41:45      19688 eval.csv.out\n"
     ]
    }
   ],
   "source": [
    "\n",
    "!aws s3 ls s3://page2sage/predicted/"
   ]
  },
  {
   "cell_type": "code",
   "execution_count": 79,
   "id": "c452ba9d",
   "metadata": {},
   "outputs": [
    {
     "name": "stdout",
     "output_type": "stream",
     "text": [
      "download: s3://page2sage/predicted/eval.csv.out to ../data/predicted.out\n",
      "5.276881694793701\n",
      "5.240635871887207\n",
      "5.025389194488525\n",
      "5.187361717224121\n",
      "5.183139324188232\n",
      "5.115389823913574\n",
      "5.249989986419678\n",
      "5.104551792144775\n",
      "5.277245998382568\n",
      "5.196588039398193\n"
     ]
    }
   ],
   "source": [
    "!aws s3 cp s3://page2sage/predicted/eval.csv.out ../data/predicted.out\n",
    "!head ../data/predicted.out"
   ]
  },
  {
   "cell_type": "code",
   "execution_count": null,
   "id": "09fa4f38",
   "metadata": {},
   "outputs": [],
   "source": []
  }
 ],
 "metadata": {
  "kernelspec": {
   "display_name": "conda_python3",
   "language": "python",
   "name": "conda_python3"
  },
  "language_info": {
   "codemirror_mode": {
    "name": "ipython",
    "version": 3
   },
   "file_extension": ".py",
   "mimetype": "text/x-python",
   "name": "python",
   "nbconvert_exporter": "python",
   "pygments_lexer": "ipython3",
   "version": "3.6.13"
  }
 },
 "nbformat": 4,
 "nbformat_minor": 5
}
